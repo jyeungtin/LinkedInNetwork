{
 "cells": [
  {
   "cell_type": "markdown",
   "id": "cc1348b5",
   "metadata": {},
   "source": [
    "## **Understanding my LinkedIn network**\n",
    "The following script allows us to access our LinkedIn first-degree common connections' network. The compiled edge list can be exported to CSV and processed in Gephi / Cytoscape / your original scripts for social network analyses.\n",
    "\n",
    "### **Remark**\n",
    "If there is no common connection between you and your connection's connections, the results will return the same data as your own. Please carefully inspect whether these connections do share a completely same connections as you do or you have no common connections with this person."
   ]
  },
  {
   "cell_type": "markdown",
   "id": "8a5fd7cf",
   "metadata": {},
   "source": [
    "### **Installing LinkedIn API by tomquirk**\n",
    "\n",
    "Please see [linkedin-api](https://github.com/tomquirk/linkedin-api) GitHub page for more information"
   ]
  },
  {
   "cell_type": "code",
   "execution_count": null,
   "id": "57890966",
   "metadata": {
    "scrolled": true
   },
   "outputs": [],
   "source": [
    "#Install linkedin API \n",
    "!pip3 install git+https://github.com/tomquirk/linkedin-api.git"
   ]
  },
  {
   "cell_type": "markdown",
   "id": "f5913748",
   "metadata": {},
   "source": [
    "### **Getting own profile**"
   ]
  },
  {
   "cell_type": "code",
   "execution_count": null,
   "id": "cbaa1fd9",
   "metadata": {
    "scrolled": false
   },
   "outputs": [],
   "source": [
    "from linkedin_api import Linkedin\n",
    "\n",
    "#Access LinkedIn\n",
    "api = Linkedin('your_username', 'your_password')\n",
    "\n",
    "#Get my own profile. You can check your URN id here.\n",
    "profile = api.get_profile('your_public_id')\n",
    "profile\n",
    "\n",
    "#Get my own connections\n",
    "connections = api.get_profile_connections('your_URN_id')\n",
    "connections"
   ]
  },
  {
   "cell_type": "markdown",
   "id": "fea378b5",
   "metadata": {},
   "source": [
    "### **Creating dataframe for own connections**"
   ]
  },
  {
   "cell_type": "code",
   "execution_count": null,
   "id": "5d5cf6b1",
   "metadata": {
    "scrolled": true
   },
   "outputs": [],
   "source": [
    "#append my own connections\n",
    "import pandas as pd\n",
    "\n",
    "my_list = pd.DataFrame(columns = ['source', 'target'])\n",
    "    \n",
    "for person in range(len(connections)):\n",
    "    connect_name = connections[person]['public_id']\n",
    "    my_list = my_list.append({'source':'your_name', \n",
    "                                     'target': connect_name}, ignore_index = True)"
   ]
  },
  {
   "cell_type": "markdown",
   "id": "bba35f03",
   "metadata": {},
   "source": [
    "### **Getting connections' common connections**\n",
    "\n",
    "Export with *utf-8* instead of *utf-8-sig* if you are exporting to Gephi"
   ]
  },
  {
   "cell_type": "code",
   "execution_count": null,
   "id": "5030e7c0",
   "metadata": {
    "scrolled": false
   },
   "outputs": [],
   "source": [
    "#Find connections' connections \n",
    "edge_list = pd.DataFrame(columns = ['source', 'target'])\n",
    "\n",
    "for i in range(len(connections)):\n",
    "    org_person = connections[i]['public_id']\n",
    "    cconnect = connections[i]['urn_id']\n",
    "    temp = api.get_profile_connections(cconnect)\n",
    "    \n",
    "    for person in range(len(temp)):\n",
    "        connect_name = temp[person]['public_id']\n",
    "        edge_list = edge_list.append({'source':org_person, \n",
    "                                     'target': connect_name}, ignore_index = True)\n",
    "\n",
    "combined = my_list.append(edge_list)"
   ]
  },
  {
   "cell_type": "code",
   "execution_count": null,
   "id": "e1ebb86d",
   "metadata": {},
   "outputs": [],
   "source": [
    "#Save list\n",
    "combined.to_csv('path', encoding = 'utf-8-sig')"
   ]
  }
 ],
 "metadata": {
  "kernelspec": {
   "display_name": "Python 3",
   "language": "python",
   "name": "python3"
  },
  "language_info": {
   "codemirror_mode": {
    "name": "ipython",
    "version": 3
   },
   "file_extension": ".py",
   "mimetype": "text/x-python",
   "name": "python",
   "nbconvert_exporter": "python",
   "pygments_lexer": "ipython3",
   "version": "3.8.8"
  }
 },
 "nbformat": 4,
 "nbformat_minor": 5
}
